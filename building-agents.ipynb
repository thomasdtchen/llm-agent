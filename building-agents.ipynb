{
 "cells": [
  {
   "cell_type": "markdown",
   "metadata": {},
   "source": [
    "Agents\n",
    "\n",
    "Scratch -> LLM + functions inside its prompt\n",
    "OpenAI Function calling -> using the official api to call functions for LLMs\n",
    "Build simple agents with langchain"
   ]
  },
  {
   "cell_type": "code",
   "execution_count": 2,
   "metadata": {},
   "outputs": [],
   "source": [
    "import openai\n",
    "import os\n",
    "from dotenv import load_dotenv\n",
    "\n",
    "load_dotenv()\n",
    "openai.api_key = os.getenv(\"OPENAI_API_KEY\")"
   ]
  },
  {
   "cell_type": "code",
   "execution_count": 3,
   "metadata": {},
   "outputs": [
    {
     "data": {
      "text/markdown": [
       "1. Check disk usage: Use the \"du\" command to display the disk usage of files and directories. For example, type \"du -sh ~/\" to see the total size of your home directory.\n",
       "\n",
       "2. Rename files in bulk: Use the \"mv\" command to rename multiple files at once. For example, if you have a folder with multiple files named \"file1.txt\", \"file2.txt\", etc., you can rename them all to \"new_file1.txt\", \"new_file2.txt\", etc., with a single command like \"mv file*.txt new_file*.txt\".\n",
       "\n",
       "3. Monitor system resources: Use the \"top\" command to monitor the usage of system resources like CPU and memory. It displays a live-updated list of processes and their resource usage. Simply type \"top\" in the terminal and press Enter to start monitoring. Use \"q\" to quit."
      ],
      "text/plain": [
       "<IPython.core.display.Markdown object>"
      ]
     },
     "execution_count": 3,
     "metadata": {},
     "output_type": "execute_result"
    }
   ],
   "source": [
    "from openai import OpenAI\n",
    "from IPython.display import Markdown\n",
    "client = OpenAI()\n",
    "\n",
    "def get_response(prompt_question):\n",
    "    response = client.chat.completions.create(\n",
    "        model=\"gpt-3.5-turbo-16k\",\n",
    "        messages=[{\"role\": \"system\", \"content\": \"You are a helpful research and programming assistant\"},\n",
    "                  {\"role\": \"user\", \"content\": prompt_question}]\n",
    "    )\n",
    "    \n",
    "    return response.choices[0].message.content\n",
    "\n",
    "output = get_response(\"Create a simple task list of 3 desktop things I can do on the terminal.\")\n",
    "Markdown(output)"
   ]
  },
  {
   "cell_type": "markdown",
   "metadata": {},
   "source": [
    "Ok cool, so here we have three ideas of actions to perform:\n",
    "\n",
    "Creating directories\n",
    "Listing files\n",
    "Removing files\n",
    "Let's transform them into functions that we could call just like in any type of Python-based application."
   ]
  },
  {
   "cell_type": "code",
   "execution_count": 4,
   "metadata": {},
   "outputs": [],
   "source": [
    "import subprocess\n",
    "\n",
    "def create_directory(directory_name):\n",
    "    # Execute shell command to create directory\n",
    "    subprocess.run([\"mkdir\", directory_name])\n",
    "\n",
    "def create_file():\n",
    "    subprocess.run([\"touch\", \"test.txt\"])\n",
    "\n",
    "def list_files():\n",
    "    subprocess.run([\"ls\"])"
   ]
  },
  {
   "cell_type": "code",
   "execution_count": 5,
   "metadata": {},
   "outputs": [
    {
     "name": "stderr",
     "output_type": "stream",
     "text": [
      "mkdir: cannot create directory ‘test’: File exists\n"
     ]
    }
   ],
   "source": [
    "create_directory(\"test\")"
   ]
  },
  {
   "cell_type": "markdown",
   "metadata": {},
   "source": [
    "OK, cool! now Notice that, here we added single parameters to the functions: create_directory(), create_file(), and we did this so that we can actually do real things instead of just always creating the same folders over and over.\n",
    "\n",
    "Now, how can we actually put it all together so that given a task, a model can:\n",
    "\n",
    "Plan the task\n",
    "Execute actions to complete the task\n",
    "Know when to call a function\n",
    "\n",
    "This is actually an interesting problem, let's understand why is that the case by trying to hack our way into putting all of these together:"
   ]
  },
  {
   "cell_type": "code",
   "execution_count": 6,
   "metadata": {},
   "outputs": [
    {
     "data": {
      "text/markdown": [
       "create_directory('lucas-the-agent-master')"
      ],
      "text/plain": [
       "<IPython.core.display.Markdown object>"
      ]
     },
     "execution_count": 6,
     "metadata": {},
     "output_type": "execute_result"
    }
   ],
   "source": [
    " class ModelWithTools:\n",
    "    def __init__(self, model):\n",
    "        self.model = model\n",
    "    \n",
    "    def get_response(self, prompt_question):\n",
    "        response = client.chat.completions.create(\n",
    "            model=self.model,\n",
    "            messages=[{\"role\": \"system\", \"content\": \"You are a helpful research and programming assistant\"},\n",
    "                    {\"role\": \"user\", \"content\": prompt_question}]\n",
    "        )\n",
    "        \n",
    "        return response.choices[0].message.content\n",
    "    \n",
    "    def create_directory(self, directory_name):\n",
    "        subprocess.run([\"mkdir\", directory_name])\n",
    "    \n",
    "    def create_file(self, file_name):\n",
    "        subprocess.run([\"touch\", file_name])\n",
    "    \n",
    "    def list_files(self):\n",
    "        subprocess.run([\"ls\"])\n",
    "    \n",
    "    \n",
    "\n",
    "model = ModelWithTools(\"gpt-3.5-turbo-16k\")\n",
    "task_description = \"Create a folder called 'lucas-the-agent-master'. Inside that folder, create a file called 'the-10-master-rules.md\"\n",
    "output = model.get_response(f\"\"\"Given this task: {task_description}, \\n\n",
    "                            Consider you have access to the following functions:\n",
    "                            \n",
    "    def create_directory(self, directory_name):\n",
    "        '''Function that creates a directory given a directory name.'''\n",
    "        subprocess.run([\"mkdir\", directory_name])\n",
    "    \n",
    "    def create_file(self, file_name):\n",
    "        '''Function that creates a file given a file name.'''\n",
    "        subprocess.run([\"touch\", file_name])\n",
    "    \n",
    "    def list_files(self):\n",
    "       '''Function that lists all files in the current directory.'''\n",
    "        subprocess.run([\"ls\"])\n",
    "    \n",
    "    Your output should be the first function to be executed to complete the task containing the necessary arguments.\n",
    "    The OUTPUT SHOULD ONLY BE THE PYTHON FUNCTION CALL and NOTHING ELSE.\n",
    "    \"\"\")\n",
    "\n",
    "Markdown(output)"
   ]
  },
  {
   "cell_type": "markdown",
   "metadata": {},
   "source": [
    "Hey! Look at that the output is that function! Now, all we need is to direct this output to be executed somehow!"
   ]
  },
  {
   "cell_type": "code",
   "execution_count": 7,
   "metadata": {},
   "outputs": [],
   "source": [
    "exec(\"model.\" + output)"
   ]
  },
  {
   "cell_type": "markdown",
   "metadata": {},
   "source": [
    "Yessss! We did it! All we had to do is to use the Python builtin method exec connected with the function call we got from the model's response! To avoid having to connect an outside function let's add some smart functionalities to our class to bind these capabilities all together."
   ]
  },
  {
   "cell_type": "code",
   "execution_count": 8,
   "metadata": {},
   "outputs": [
    {
     "data": {
      "text/markdown": [
       "model.create_directory('lucas-the-unoriginal-joker')"
      ],
      "text/plain": [
       "<IPython.core.display.Markdown object>"
      ]
     },
     "execution_count": 8,
     "metadata": {},
     "output_type": "execute_result"
    }
   ],
   "source": [
    "class ModelWithTools:\n",
    "    def __init__(self, model):\n",
    "        self.model = model\n",
    "    \n",
    "    def get_response(self, prompt_question):\n",
    "        response = client.chat.completions.create(\n",
    "            model=self.model,\n",
    "            messages=[{\"role\": \"system\", \"content\": \"You are a helpful research and programming assistant\"},\n",
    "                    {\"role\": \"user\", \"content\": prompt_question}]\n",
    "        )\n",
    "        \n",
    "        return response.choices[0].message.content\n",
    "    \n",
    "    def create_directory(self, directory_name):\n",
    "        subprocess.run([\"mkdir\", directory_name])\n",
    "    \n",
    "    def create_file(self, file_name):\n",
    "        subprocess.run([\"touch\", file_name])\n",
    "    \n",
    "    def list_files(self):\n",
    "        subprocess.run([\"ls\"])\n",
    "    \n",
    "    def execute_function_call(self, function_call_string: str):\n",
    "        exec(function_call_string)\n",
    "\n",
    "\n",
    "model = ModelWithTools(\"gpt-3.5-turbo-16k\")\n",
    "task_description = \"Create a folder called 'lucas-the-unoriginal-joker'.\"\n",
    "output = model.get_response(f\"\"\"Given a task that will be fed as input, and consider you have access to the following functions:\n",
    "                            \n",
    "    def create_directory(self, directory_name):\n",
    "        '''Function that creates a directory given a directory name.'''\n",
    "        subprocess.run([\"mkdir\", directory_name])\n",
    "    \n",
    "    def create_file(self, file_name):\n",
    "        '''Function that creates a file given a file name.'''\n",
    "        subprocess.run([\"touch\", file_name])\n",
    "    \n",
    "    def list_files(self):\n",
    "       '''Function that lists all files in the current directory.'''\n",
    "        subprocess.run([\"ls\"])             \n",
    "    \n",
    "    Your output should be the first function to be executed to complete the task containing the necessary arguments.\n",
    "    For example:\n",
    "    \n",
    "    task: 'create a folder named lucas-the-agent-master'\n",
    "    output: model.create_directory('lucas-the-agent-master')\n",
    "    \n",
    "    task: 'create a file named the-10-master-rules.md'\n",
    "    output: model.create_file('the-10-master-rules.md')\n",
    "    \n",
    "    The OUTPUT SHOULD ONLY BE THE PYTHON FUNCTION CALL and NOTHING ELSE.\n",
    "    task: {task_description}\n",
    "    output:\\n\n",
    "    \"\"\")\n",
    "\n",
    "Markdown(output)"
   ]
  },
  {
   "cell_type": "code",
   "execution_count": 9,
   "metadata": {},
   "outputs": [],
   "source": [
    "model.execute_function_call(output)"
   ]
  },
  {
   "cell_type": "markdown",
   "metadata": {},
   "source": [
    "And there we have it! We connected our model to the tools!\n",
    "\n",
    "This is great, but what if we wanted to perform multiple actions?\n",
    "\n",
    "How about changing our prompt so that our output is a python list of function calls and then just looping over those lists and exeucting them one by one?\n",
    "\n",
    "Let's try that:"
   ]
  },
  {
   "cell_type": "code",
   "execution_count": 10,
   "metadata": {},
   "outputs": [
    {
     "data": {
      "text/markdown": [
       "[model.create_directory('lucas-the-very-unoriginal-joker'), model.create_file('lucas-the-very-unoriginal-joker/the-10-unoriginal-rules-of-comedy.md')]"
      ],
      "text/plain": [
       "<IPython.core.display.Markdown object>"
      ]
     },
     "execution_count": 10,
     "metadata": {},
     "output_type": "execute_result"
    }
   ],
   "source": [
    "model = ModelWithTools(\"gpt-3.5-turbo-16k\")\n",
    "task_description = \"Create a folder called 'lucas-the-very-unoriginal-joker'. Inside that folder create a file called 'the-10-unoriginal-rules-of-comedy.md'.\"\n",
    "output = model.get_response(f\"\"\"Given a task that will be fed as input, and consider you have access to the following functions:\n",
    "                            \n",
    "    def create_directory(self, directory_name):\n",
    "        '''Function that creates a directory given a directory name.'''\n",
    "        subprocess.run([\"mkdir\", directory_name])\n",
    "    \n",
    "    def create_file(self, file_name):\n",
    "        '''Function that creates a file given a file name.'''\n",
    "        subprocess.run([\"touch\", file_name])\n",
    "    \n",
    "    def list_files(self):\n",
    "       '''Function that lists all files in the current directory.'''\n",
    "        subprocess.run([\"ls\"])  \n",
    "    .\n",
    "    Your output should be the a list of function calls to be executed to complete the task containing the necessary arguments.\n",
    "    For example:\n",
    "    \n",
    "    task: 'create a folder named test-dir'\n",
    "    output_list: [model.create_directory('test-dir')]\n",
    "    \n",
    "    task: 'create a file named file.txt'\n",
    "    output_list: [model.create_file('file.txt')]\n",
    "    \n",
    "    task: 'Create a folder named lucas-dir and inside that folder create a file named lucas-file.txt'\n",
    "    output_list: [model.create_directory('lucas-dir'), model.create_file('lucas-dir/lucas-file.txt')]\n",
    "    \n",
    "    The OUTPUT SHOULD ONLY BE A PYTHON LIST WITH THE FUNCTION CALLS INSIDE and NOTHING ELSE.\n",
    "    task: {task_description}\n",
    "    output_list:\\n\n",
    "    \"\"\")\n",
    "\n",
    "Markdown(output)"
   ]
  },
  {
   "cell_type": "code",
   "execution_count": 11,
   "metadata": {},
   "outputs": [],
   "source": [
    "model.execute_function_call(output)"
   ]
  },
  {
   "cell_type": "markdown",
   "metadata": {},
   "source": [
    "At this point we can start identifying a lot of issues with this approach despite our early sucess:\n",
    "\n",
    "- Uncertainty of model's outputs can affect our ability to reliably call the functions\n",
    "- We need more structured ways to prepare the inputs of the function calls\n",
    "- We need better ways to put everything together (just feeding the entire functions like this makes it a very clunky and non-scalable framework for more complex cases)\n",
    "\n",
    "There are many more issues but starting with these, we can now look at frameworks and see how they fix these issues and with that in mind understand what is behind their implementations!\n",
    "\n",
    "I personally think this is a much better way to understand what is going on behind agents in practice rather than just use the more higher level frameworks right of the bat!"
   ]
  },
  {
   "cell_type": "markdown",
   "metadata": {},
   "source": [
    "OpenAI Functions"
   ]
  },
  {
   "cell_type": "markdown",
   "metadata": {},
   "source": [
    "Ok, let's first understand how [OpenAI](https://openai.com/) the company behind ChatGPT, allows for these function call implementations in its API.\n",
    "\n",
    "OpenAI implemented a [function calling API](https://platform.openai.com/docs/guides/function-calling) which is a standard way to connect their models to outside tools like in the very simple example we did above.\n",
    "\n",
    "According to their [official documentation](https://platform.openai.com/docs/guides/function-calling#:~:text=The%20basic%20sequence,to%20the%20user.) the sequence of steps for function calling is as follows:\n",
    "1. Call the model with the user query and a set of functions defined in the functions parameter.\n",
    "2. The model can choose to call one or more functions; if so, the content will be a stringified JSON object adhering to your custom schema (note: the model may hallucinate parameters).\n",
    "3. Parse the string into JSON in your code, and call your function with the provided arguments if they exist.\n",
    "4. Call the model again by appending the function response as a new message, and let the model summarize the results back to the user."
   ]
  },
  {
   "cell_type": "markdown",
   "metadata": {},
   "source": [
    "Below is an example taken from their official documentation:"
   ]
  },
  {
   "cell_type": "code",
   "execution_count": 12,
   "metadata": {},
   "outputs": [
    {
     "data": {
      "text/plain": [
       "ChatCompletion(id='chatcmpl-9QA1S5XLjsznv0NFQcNVqShqOxcLK', choices=[Choice(finish_reason='stop', index=0, logprobs=None, message=ChatCompletionMessage(content=\"Currently, the weather in San Francisco is 72°C, in Tokyo it's 10°C, and in Paris it's 22°C.\", role='assistant', function_call=None, tool_calls=None))], created=1716022082, model='gpt-3.5-turbo-1106', object='chat.completion', system_fingerprint=None, usage=CompletionUsage(completion_tokens=29, prompt_tokens=169, total_tokens=198))"
      ]
     },
     "execution_count": 12,
     "metadata": {},
     "output_type": "execute_result"
    }
   ],
   "source": [
    "from openai import OpenAI\n",
    "import json\n",
    "\n",
    "client = OpenAI()\n",
    "\n",
    "# Example dummy function hard coded to return the same weather\n",
    "# In production, this could be your backend API or an external API\n",
    "def get_current_weather(location, unit=\"fahrenheit\"):\n",
    "    \"\"\"Get the current weather in a given location\"\"\"\n",
    "    if \"tokyo\" in location.lower():\n",
    "        return json.dumps({\"location\": \"Tokyo\", \"temperature\": \"10\", \"unit\": unit})\n",
    "    elif \"san francisco\" in location.lower():\n",
    "        return json.dumps({\"location\": \"San Francisco\", \"temperature\": \"72\", \"unit\": unit})\n",
    "    elif \"paris\" in location.lower():\n",
    "        return json.dumps({\"location\": \"Paris\", \"temperature\": \"22\", \"unit\": unit})\n",
    "    else:\n",
    "        return json.dumps({\"location\": location, \"temperature\": \"unknown\"})\n",
    "\n",
    "def run_conversation():\n",
    "    # Step 1: send the conversation and available functions to the model\n",
    "    messages = [{\"role\": \"user\", \"content\": \"What's the weather like in San Francisco, Tokyo, and Paris?\"}]\n",
    "    tools = [\n",
    "        {\n",
    "            \"type\": \"function\",\n",
    "            \"function\": {\n",
    "                \"name\": \"get_current_weather\",\n",
    "                \"description\": \"Get the current weather in a given location\",\n",
    "                \"parameters\": {\n",
    "                    \"type\": \"object\",\n",
    "                    \"properties\": {\n",
    "                        \"location\": {\n",
    "                            \"type\": \"string\",\n",
    "                            \"description\": \"The city and state, e.g. San Francisco, CA\",\n",
    "                        },\n",
    "                        \"unit\": {\"type\": \"string\", \"enum\": [\"celsius\", \"fahrenheit\"]},\n",
    "                    },\n",
    "                    \"required\": [\"location\"],\n",
    "                },\n",
    "            },\n",
    "        }\n",
    "    ]\n",
    "    response = client.chat.completions.create(\n",
    "        model=\"gpt-3.5-turbo-1106\",\n",
    "        messages=messages,\n",
    "        tools=tools,\n",
    "        tool_choice=\"auto\",  # auto is default, but we'll be explicit\n",
    "    )\n",
    "    response_message = response.choices[0].message\n",
    "    tool_calls = response_message.tool_calls\n",
    "    # Step 2: check if the model wanted to call a function\n",
    "    if tool_calls:\n",
    "        # Step 3: call the function\n",
    "        # Note: the JSON response may not always be valid; be sure to handle errors\n",
    "        available_functions = {\n",
    "            \"get_current_weather\": get_current_weather,\n",
    "        }  # only one function in this example, but you can have multiple\n",
    "        messages.append(response_message)  # extend conversation with assistant's reply\n",
    "        # Step 4: send the info for each function call and function response to the model\n",
    "        for tool_call in tool_calls:\n",
    "            function_name = tool_call.function.name\n",
    "            function_to_call = available_functions[function_name]\n",
    "            function_args = json.loads(tool_call.function.arguments)\n",
    "            function_response = function_to_call(\n",
    "                location=function_args.get(\"location\"),\n",
    "                unit=function_args.get(\"unit\"),\n",
    "            )\n",
    "            messages.append(\n",
    "                {\n",
    "                    \"tool_call_id\": tool_call.id,\n",
    "                    \"role\": \"tool\",\n",
    "                    \"name\": function_name,\n",
    "                    \"content\": function_response,\n",
    "                }\n",
    "            )  # extend conversation with function response\n",
    "        second_response = client.chat.completions.create(\n",
    "            model=\"gpt-3.5-turbo-1106\",\n",
    "            messages=messages,\n",
    "        )  # get a new response from the model where it can see the function response\n",
    "        return second_response\n",
    "output = run_conversation()\n",
    "output"
   ]
  },
  {
   "cell_type": "code",
   "execution_count": 13,
   "metadata": {},
   "outputs": [
    {
     "data": {
      "text/plain": [
       "\"Currently, the weather in San Francisco is 72°C, in Tokyo it's 10°C, and in Paris it's 22°C.\""
      ]
     },
     "execution_count": 13,
     "metadata": {},
     "output_type": "execute_result"
    }
   ],
   "source": [
    "output.choices[0].message.content"
   ]
  },
  {
   "cell_type": "code",
   "execution_count": 14,
   "metadata": {},
   "outputs": [],
   "source": [
    "import json\n",
    "\n",
    "def create_directory(directory_name):\n",
    "    \"\"\"Function that creates a directory given a directory name.\"\"\"\"\"\n",
    "    subprocess.run([\"mkdir\", directory_name])\n",
    "    return json.dumps({\"directory_name\": directory_name})"
   ]
  },
  {
   "cell_type": "code",
   "execution_count": 15,
   "metadata": {},
   "outputs": [
    {
     "data": {
      "text/plain": [
       "'{\"directory_name\": \"directory1\"}'"
      ]
     },
     "execution_count": 15,
     "metadata": {},
     "output_type": "execute_result"
    }
   ],
   "source": [
    "create_directory(\"directory1\")"
   ]
  },
  {
   "cell_type": "code",
   "execution_count": 17,
   "metadata": {},
   "outputs": [],
   "source": [
    "tool_create_directory = {\n",
    "    \"type\": \"function\",\n",
    "    \"function\": {\n",
    "        \"name\": \"create_directory\",\n",
    "        \"description\": \"Create a directory given a directory name.\",\n",
    "        \"parameters\": {\n",
    "            \"type\": \"object\",\n",
    "            \"properties\": {\n",
    "                \"directory_name\": {\n",
    "                    \"type\": \"string\",\n",
    "                    \"description\": \"The name of the directory to create.\",\n",
    "                }\n",
    "            },\n",
    "            \"required\": [\"directory_name\"],\n",
    "        },\n",
    "    },\n",
    "}"
   ]
  },
  {
   "cell_type": "code",
   "execution_count": 18,
   "metadata": {},
   "outputs": [
    {
     "name": "stdout",
     "output_type": "stream",
     "text": [
      "messages: [{'role': 'user', 'content': \"Create a folder called 'lucas-the-super-unoriginal-joker'.\"}]\n",
      "tools: [{'type': 'function', 'function': {'name': 'create_directory', 'description': 'Create a directory given a directory name.', 'parameters': {'type': 'object', 'properties': {'directory_name': {'type': 'string', 'description': 'The name of the directory to create.'}}, 'required': ['directory_name']}}}]\n",
      "response_message: ChatCompletionMessage(content=None, role='assistant', function_call=None, tool_calls=[ChatCompletionMessageToolCall(id='call_baONgSa3FjfqHXjFN1IqQqte', function=Function(arguments='{\\n  \"directory_name\": \"lucas-the-super-unoriginal-joker\"\\n}', name='create_directory'), type='function')])\n",
      "tool_calls: [ChatCompletionMessageToolCall(id='call_baONgSa3FjfqHXjFN1IqQqte', function=Function(arguments='{\\n  \"directory_name\": \"lucas-the-super-unoriginal-joker\"\\n}', name='create_directory'), type='function')]\n",
      "function_name: create_directory\n",
      "function_to_call: <function create_directory at 0x7fa4e54e8a60>\n",
      "function_args: {'directory_name': 'lucas-the-super-unoriginal-joker'}\n",
      "function_response: {\"directory_name\": \"lucas-the-super-unoriginal-joker\"}\n",
      "tool_call.id: call_baONgSa3FjfqHXjFN1IqQqte\n",
      "messages: [{'role': 'user', 'content': \"Create a folder called 'lucas-the-super-unoriginal-joker'.\"}, ChatCompletionMessage(content=None, role='assistant', function_call=None, tool_calls=[ChatCompletionMessageToolCall(id='call_baONgSa3FjfqHXjFN1IqQqte', function=Function(arguments='{\\n  \"directory_name\": \"lucas-the-super-unoriginal-joker\"\\n}', name='create_directory'), type='function')]), {'tool_call_id': 'call_baONgSa3FjfqHXjFN1IqQqte', 'role': 'tool', 'name': 'create_directory', 'content': '{\"directory_name\": \"lucas-the-super-unoriginal-joker\"}'}]\n"
     ]
    },
    {
     "data": {
      "text/plain": [
       "ChatCompletion(id='chatcmpl-9QANUBrNXPpBNgucgOj5ywX0XDYds', choices=[Choice(finish_reason='stop', index=0, logprobs=None, message=ChatCompletionMessage(content=\"I have created a folder called 'lucas-the-super-unoriginal-joker' for you.\", role='assistant', function_call=None, tool_calls=None))], created=1716023448, model='gpt-3.5-turbo-16k-0613', object='chat.completion', system_fingerprint=None, usage=CompletionUsage(completion_tokens=20, prompt_tokens=69, total_tokens=89))"
      ]
     },
     "execution_count": 18,
     "metadata": {},
     "output_type": "execute_result"
    }
   ],
   "source": [
    "import json\n",
    "\n",
    "def run_terminal_task():\n",
    "    messages = [{\"role\": \"user\", \"content\": \"Create a folder called 'lucas-the-super-unoriginal-joker'.\"}]\n",
    "    tools = [tool_create_directory]  \n",
    "    print(\"messages:\", messages)\n",
    "    print(\"tools:\", tools)\n",
    "    response = client.chat.completions.create(\n",
    "        model=\"gpt-3.5-turbo-16k\",\n",
    "        messages=messages,\n",
    "        tools=tools,\n",
    "        tool_choice=\"auto\",  # auto is default, but we'll be explicit\n",
    "    )\n",
    "    response_message = response.choices[0].message\n",
    "    print(\"response_message:\", response_message)\n",
    "    tool_calls = response_message.tool_calls\n",
    "    print(\"tool_calls:\", tool_calls)\n",
    "    # Step 2: check if the model wanted to call a function\n",
    "    \n",
    "    if tool_calls:\n",
    "        # Step 3: call the function\n",
    "        # Note: the JSON response may not always be valid; be sure to handle errors\n",
    "        available_functions = {\n",
    "            \"create_directory\": create_directory,\n",
    "        }\n",
    "        messages.append(response_message)\n",
    "        # Step 4: send the info for each function call and function response to the model\n",
    "        for tool_call in tool_calls:\n",
    "            function_name = tool_call.function.name\n",
    "            print(\"function_name:\", function_name)\n",
    "            function_to_call = available_functions[function_name]\n",
    "            print(\"function_to_call:\", function_to_call)\n",
    "            function_args = json.loads(tool_call.function.arguments)\n",
    "            print(\"function_args:\", function_args)\n",
    "            function_response = function_to_call(\n",
    "                directory_name=function_args.get(\"directory_name\"),\n",
    "            )\n",
    "            print(\"function_response:\", function_response)\n",
    "            print(\"tool_call.id:\", tool_call.id)\n",
    "            messages.append(\n",
    "                {\n",
    "                    \"tool_call_id\": tool_call.id,\n",
    "                    \"role\": \"tool\",\n",
    "                    \"name\": function_name,\n",
    "                    \"content\": function_response,\n",
    "                }\n",
    "            )\n",
    "            print(\"messages:\", messages)\n",
    "        second_response = client.chat.completions.create(\n",
    "            model=\"gpt-3.5-turbo-16k\",\n",
    "            messages=messages,\n",
    "        )\n",
    "        return second_response\n",
    "\n",
    "output = run_terminal_task()\n",
    "output"
   ]
  },
  {
   "cell_type": "code",
   "execution_count": 19,
   "metadata": {},
   "outputs": [
    {
     "data": {
      "text/plain": [
       "\"I have created a folder called 'lucas-the-super-unoriginal-joker' for you.\""
      ]
     },
     "execution_count": 19,
     "metadata": {},
     "output_type": "execute_result"
    }
   ],
   "source": [
    "output.choices[0].message.content"
   ]
  },
  {
   "cell_type": "markdown",
   "metadata": {},
   "source": [
    "Agents"
   ]
  },
  {
   "cell_type": "code",
   "execution_count": 22,
   "metadata": {},
   "outputs": [
    {
     "name": "stderr",
     "output_type": "stream",
     "text": [
      "/home/ai/.local/lib/python3.10/site-packages/langchain_core/_api/deprecation.py:119: LangChainDeprecationWarning: The class `ChatOpenAI` was deprecated in LangChain 0.0.10 and will be removed in 0.3.0. An updated version of the class exists in the langchain-openai package and should be used instead. To use it run `pip install -U langchain-openai` and import as `from langchain_openai import ChatOpenAI`.\n",
      "  warn_deprecated(\n",
      "/home/ai/.local/lib/python3.10/site-packages/langchain_core/_api/deprecation.py:119: LangChainDeprecationWarning: The function `format_tool_to_openai_function` was deprecated in LangChain 0.1.16 and will be removed in 0.3.0. Use langchain_core.utils.function_calling.convert_to_openai_function() instead.\n",
      "  warn_deprecated(\n"
     ]
    },
    {
     "name": "stdout",
     "output_type": "stream",
     "text": [
      "\n",
      "\n",
      "\u001b[1m> Entering new AgentExecutor chain...\u001b[0m\n",
      "\u001b[32;1m\u001b[1;3m\n",
      "Invoking: `create_directory` with `{'directory_name': 'lucas-the-random-joker2'}`\n",
      "\n",
      "\n",
      "\u001b[0m\u001b[36;1m\u001b[1;3m{\"directory_name\": \"lucas-the-random-joker2\"}\u001b[0m\u001b[32;1m\u001b[1;3m\n",
      "Invoking: `create_file` with `{'file_path': 'lucas-the-random-joker2/the-10-random-rules-of-comedy.md'}`\n",
      "\n",
      "\n",
      "\u001b[0m\u001b[33;1m\u001b[1;3m{\"file_path\": \"lucas-the-random-joker2/the-10-random-rules-of-comedy.md\"}\u001b[0m\u001b[32;1m\u001b[1;3mFolder 'lucas-the-random-joker2' has been created and a file 'the-10-random-rules-of-comedy.md' has been created inside the folder.\u001b[0m\n",
      "\n",
      "\u001b[1m> Finished chain.\u001b[0m\n"
     ]
    },
    {
     "data": {
      "text/plain": [
       "{'input': \"Create a folder called 'lucas-the-random-joker2' and create a file inside this folder called 'the-10-random-rules-of-comedy.md'\",\n",
       " 'output': \"Folder 'lucas-the-random-joker2' has been created and a file 'the-10-random-rules-of-comedy.md' has been created inside the folder.\"}"
      ]
     },
     "execution_count": 22,
     "metadata": {},
     "output_type": "execute_result"
    }
   ],
   "source": [
    "from langchain.tools import tool\n",
    "from langchain.chat_models import ChatOpenAI\n",
    "from langchain.agents import AgentExecutor\n",
    "from langchain.prompts import ChatPromptTemplate, MessagesPlaceholder\n",
    "from langchain.tools.render import format_tool_to_openai_function\n",
    "from langchain.agents.format_scratchpad import format_to_openai_function_messages\n",
    "from langchain.agents.output_parsers import OpenAIFunctionsAgentOutputParser\n",
    "\n",
    "@tool\n",
    "def create_directory(directory_name):\n",
    "    \"\"\"Function that creates a directory given a directory name.\"\"\"\"\"\n",
    "    subprocess.run([\"mkdir\", directory_name])\n",
    "    return json.dumps({\"directory_name\": directory_name})\n",
    "\n",
    "@tool\n",
    "def create_file(file_path):\n",
    "    \"\"\"Function that creates a file given a file path.\"\"\"\"\"\n",
    "    subprocess.run([\"touch\", file_path])\n",
    "    return json.dumps({\"file_path\": file_path})\n",
    "\n",
    "@tool\n",
    "def some_other_function():\n",
    "    \"\"\"Function that does something else.\"\"\"\"\"\n",
    "    return json.dumps({\"some\": \"response\"})    \n",
    "\n",
    "tools = [create_directory, create_file]\n",
    "\n",
    "llm_chat = ChatOpenAI(temperature=0)\n",
    "\n",
    "prompt = ChatPromptTemplate.from_messages(\n",
    "[\n",
    "    (\"system\",\"You are very powerful assistant that helps\\\n",
    "                users perform tasks in the terminal.\"),\n",
    "    (\"user\", \"{input}\"),\n",
    "    MessagesPlaceholder(variable_name=\"agent_scratchpad\"),\n",
    "])\n",
    "\n",
    "llm_with_tools = llm_chat.bind(functions=[format_tool_to_openai_function(t) for t in tools])\n",
    "\n",
    "agent = (\n",
    "{\n",
    "    \"input\": lambda x: x[\"input\"],\n",
    "    \"agent_scratchpad\": lambda x: format_to_openai_function_messages(\n",
    "        x[\"intermediate_steps\"]\n",
    "    ),\n",
    "}\n",
    "| prompt\n",
    "| llm_with_tools\n",
    "| OpenAIFunctionsAgentOutputParser())\n",
    "\n",
    "agent_executor = AgentExecutor(agent=agent, tools=tools, verbose=True)\n",
    "\n",
    "action_input = \"Create a folder called 'lucas-the-random-joker2' and create a file inside this folder called 'the-10-random-rules-of-comedy.md'\"\n",
    "\n",
    "agent_executor.invoke({\"input\": action_input})"
   ]
  }
 ],
 "metadata": {
  "kernelspec": {
   "display_name": "Python 3",
   "language": "python",
   "name": "python3"
  },
  "language_info": {
   "codemirror_mode": {
    "name": "ipython",
    "version": 3
   },
   "file_extension": ".py",
   "mimetype": "text/x-python",
   "name": "python",
   "nbconvert_exporter": "python",
   "pygments_lexer": "ipython3",
   "version": "3.10.12"
  }
 },
 "nbformat": 4,
 "nbformat_minor": 2
}
